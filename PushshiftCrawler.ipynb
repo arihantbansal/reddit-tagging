{
 "cells": [
  {
   "cell_type": "code",
   "execution_count": 1,
   "metadata": {},
   "outputs": [],
   "source": [
    "import pandas as pd\n",
    "from pmaw import PushshiftAPI\n",
    "\n",
    "api = PushshiftAPI()"
   ]
  },
  {
   "cell_type": "code",
   "execution_count": 2,
   "metadata": {},
   "outputs": [],
   "source": [
    "import datetime as dt\n",
    "before = int(dt.datetime(2021, 1, 1, 0, 0).timestamp())\n",
    "after = int(dt.datetime(2020, 12, 1, 0, 0).timestamp())"
   ]
  },
  {
   "cell_type": "code",
   "execution_count": 5,
   "metadata": {},
   "outputs": [
    {
     "name": "stdout",
     "output_type": "stream",
     "text": [
      "INFO:pmaw.PushshiftAPIBase:Checkpoint:: Success Rate: 83.00% - Requests: 100 - Batches: 10 - Items Remaining: 1700\n",
      "INFO:pmaw.PushshiftAPIBase:Total:: Success Rate: 84.75% - Requests: 118 - Batches: 12 - Items Remaining: 0\n",
      "Retrieved 10000 posts from Pushshift\n"
     ]
    }
   ],
   "source": [
    "subreddit = \"news\"\n",
    "limit = 10000\n",
    "posts = api.search_submissions(\n",
    "    subreddit=subreddit, limit=limit, before=before, after=after)\n",
    "posts_list = [post for post in posts]\n",
    "print(f'Retrieved {len(posts_list)} posts from Pushshift')\n"
   ]
  },
  {
   "cell_type": "code",
   "execution_count": 6,
   "metadata": {},
   "outputs": [
    {
     "data": {
      "text/plain": [
       "{'all_awardings': [],\n",
       " 'allow_live_comments': False,\n",
       " 'author': 'indian_motivation',\n",
       " 'author_flair_css_class': None,\n",
       " 'author_flair_richtext': [],\n",
       " 'author_flair_text': None,\n",
       " 'author_flair_type': 'text',\n",
       " 'author_fullname': 't2_3eztj87p',\n",
       " 'author_patreon_flair': False,\n",
       " 'author_premium': False,\n",
       " 'awarders': [],\n",
       " 'can_mod_post': False,\n",
       " 'contest_mode': False,\n",
       " 'created_utc': 1607564455,\n",
       " 'domain': 'biggboss14.tellygupshup.com',\n",
       " 'full_link': 'https://www.reddit.com/r/news/comments/ka5po1/bigg_boss_14_vikas_guptas_plans_to_break_rules_in/',\n",
       " 'gildings': {},\n",
       " 'id': 'ka5po1',\n",
       " 'is_crosspostable': False,\n",
       " 'is_meta': False,\n",
       " 'is_original_content': False,\n",
       " 'is_reddit_media_domain': False,\n",
       " 'is_robot_indexable': False,\n",
       " 'is_self': False,\n",
       " 'is_video': False,\n",
       " 'link_flair_background_color': '',\n",
       " 'link_flair_richtext': [],\n",
       " 'link_flair_text_color': 'dark',\n",
       " 'link_flair_type': 'text',\n",
       " 'locked': False,\n",
       " 'media_only': False,\n",
       " 'no_follow': True,\n",
       " 'num_comments': 0,\n",
       " 'num_crossposts': 0,\n",
       " 'over_18': False,\n",
       " 'parent_whitelist_status': 'all_ads',\n",
       " 'permalink': '/r/news/comments/ka5po1/bigg_boss_14_vikas_guptas_plans_to_break_rules_in/',\n",
       " 'pinned': False,\n",
       " 'post_hint': 'link',\n",
       " 'preview': {'enabled': False,\n",
       "  'images': [{'id': 'xPEQDLPxhiDYevklypHDqO7rgdedgu4jzp1Lk6qKW_Y',\n",
       "    'resolutions': [{'height': 60,\n",
       "      'url': 'https://external-preview.redd.it/M2EyKGx-emwurQgP_ybAYcvQmRemo-EdLcLkyH6tT2M.jpg?width=108&amp;crop=smart&amp;auto=webp&amp;s=8439589825f098c50405ec38bbbe07f6db6a5b74',\n",
       "      'width': 108},\n",
       "     {'height': 121,\n",
       "      'url': 'https://external-preview.redd.it/M2EyKGx-emwurQgP_ybAYcvQmRemo-EdLcLkyH6tT2M.jpg?width=216&amp;crop=smart&amp;auto=webp&amp;s=bec3a97c688e2438bb92fe57416d1794402213b1',\n",
       "      'width': 216},\n",
       "     {'height': 180,\n",
       "      'url': 'https://external-preview.redd.it/M2EyKGx-emwurQgP_ybAYcvQmRemo-EdLcLkyH6tT2M.jpg?width=320&amp;crop=smart&amp;auto=webp&amp;s=16642e77bffbac6890df02696cc63e7a26feb14e',\n",
       "      'width': 320},\n",
       "     {'height': 360,\n",
       "      'url': 'https://external-preview.redd.it/M2EyKGx-emwurQgP_ybAYcvQmRemo-EdLcLkyH6tT2M.jpg?width=640&amp;crop=smart&amp;auto=webp&amp;s=343fb090e28346d0e1b3ebd6ec63fdd31822692c',\n",
       "      'width': 640},\n",
       "     {'height': 540,\n",
       "      'url': 'https://external-preview.redd.it/M2EyKGx-emwurQgP_ybAYcvQmRemo-EdLcLkyH6tT2M.jpg?width=960&amp;crop=smart&amp;auto=webp&amp;s=5f9bcb6d33c28d1a03880bef6d491417e95d285a',\n",
       "      'width': 960}],\n",
       "    'source': {'height': 576,\n",
       "     'url': 'https://external-preview.redd.it/M2EyKGx-emwurQgP_ybAYcvQmRemo-EdLcLkyH6tT2M.jpg?auto=webp&amp;s=bf1a85ea481bfd38c90c7f2d7b4c20ea1a0809ff',\n",
       "     'width': 1024},\n",
       "    'variants': {}}]},\n",
       " 'pwls': 6,\n",
       " 'removed_by_category': 'reddit',\n",
       " 'retrieved_on': 1607564466,\n",
       " 'score': 1,\n",
       " 'selftext': '',\n",
       " 'send_replies': False,\n",
       " 'spoiler': False,\n",
       " 'stickied': False,\n",
       " 'subreddit': 'news',\n",
       " 'subreddit_id': 't5_2qh3l',\n",
       " 'subreddit_subscribers': 22402512,\n",
       " 'subreddit_type': 'public',\n",
       " 'thumbnail': 'default',\n",
       " 'thumbnail_height': 78,\n",
       " 'thumbnail_width': 140,\n",
       " 'title': 'Bigg Boss 14: Vikas Gupta’s plans to break rules in… The clip begins with Vikas Gupta pitching an idea. He says, “jab wo ayenge tab hum log wo ...',\n",
       " 'total_awards_received': 0,\n",
       " 'treatment_tags': [],\n",
       " 'upvote_ratio': 1.0,\n",
       " 'url': 'https://biggboss14.tellygupshup.com/bigg-boss-14-vikas-guptas-plans-to-break-rules-in/?feed_id=39783&amp;_unique_id=5fd17ca7b2d54',\n",
       " 'url_overridden_by_dest': 'https://biggboss14.tellygupshup.com/bigg-boss-14-vikas-guptas-plans-to-break-rules-in/?feed_id=39783&amp;_unique_id=5fd17ca7b2d54',\n",
       " 'whitelist_status': 'all_ads',\n",
       " 'wls': 6}"
      ]
     },
     "execution_count": 6,
     "metadata": {},
     "output_type": "execute_result"
    }
   ],
   "source": [
    "posts_list[0]"
   ]
  },
  {
   "cell_type": "code",
   "execution_count": null,
   "metadata": {},
   "outputs": [],
   "source": []
  }
 ],
 "metadata": {
  "interpreter": {
   "hash": "f297efe15b57a4166dddece05a14a0d6e12e8deb1f5021f8c8abd08c63a4bc56"
  },
  "kernelspec": {
   "display_name": "Python 3.9.6 64-bit",
   "language": "python",
   "name": "python3"
  },
  "language_info": {
   "codemirror_mode": {
    "name": "ipython",
    "version": 3
   },
   "file_extension": ".py",
   "mimetype": "text/x-python",
   "name": "python",
   "nbconvert_exporter": "python",
   "pygments_lexer": "ipython3",
   "version": "3.9.6"
  },
  "orig_nbformat": 4
 },
 "nbformat": 4,
 "nbformat_minor": 2
}
